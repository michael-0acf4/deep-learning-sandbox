{
 "cells": [
  {
   "cell_type": "code",
   "execution_count": 2,
   "metadata": {},
   "outputs": [],
   "source": [
    "import torch\n",
    "import torch.nn.functional as F"
   ]
  },
  {
   "cell_type": "code",
   "execution_count": 3,
   "metadata": {},
   "outputs": [],
   "source": [
    "hs = [[1], [0], [-1], [1], [1]]  # Output after activation\n",
    "ys = [[1], [0], [0], [-1], [0]]  # Ground truth\n",
    "\n",
    "t_hs = torch.tensor(hs, requires_grad=False, dtype=torch.float32)\n",
    "t_ys = torch.tensor(ys, requires_grad=False, dtype=torch.float32)\n",
    "assert t_hs.shape == t_ys.shape"
   ]
  },
  {
   "cell_type": "code",
   "execution_count": 4,
   "metadata": {},
   "outputs": [
    {
     "data": {
      "text/plain": [
       "tensor(1.2000)"
      ]
     },
     "execution_count": 4,
     "metadata": {},
     "output_type": "execute_result"
    }
   ],
   "source": [
    "# MSE\n",
    "t_manual_mse = ((t_ys - t_hs) ** 2).sum() / t_hs.numel()\n",
    "t_mse = F.mse_loss(t_hs, t_ys)\n",
    "assert t_manual_mse == t_mse\n",
    "t_manual_mse"
   ]
  },
  {
   "cell_type": "code",
   "execution_count": null,
   "metadata": {},
   "outputs": [
    {
     "data": {
      "text/plain": [
       "(tensor(1.3133), tensor(0.8133))"
      ]
     },
     "execution_count": 102,
     "metadata": {},
     "output_type": "execute_result"
    }
   ],
   "source": [
    "logit = torch.tensor([\n",
    "    [1, 2],\n",
    "    [3, 4],\n",
    "    [5, 6]\n",
    "], dtype=torch.float32)\n",
    "output1 = F.nll_loss(F.log_softmax(logit, dim=1), torch.tensor([0, 0, 0]))\n",
    "output2 = F.log_softmax(logit, dim=1).sum() / logit.numel()\n",
    "\n",
    "output1, output2"
   ]
  },
  {
   "cell_type": "code",
   "execution_count": 93,
   "metadata": {},
   "outputs": [
    {
     "data": {
      "text/plain": [
       "tensor([[-0.0526, -2.9712],\n",
       "        [-3.0234, -0.0499],\n",
       "        [-0.4879, -0.9518]])"
      ]
     },
     "execution_count": 93,
     "metadata": {},
     "output_type": "execute_result"
    }
   ],
   "source": [
    "F.softmax(logit, dim=1).log()"
   ]
  },
  {
   "cell_type": "code",
   "execution_count": null,
   "metadata": {},
   "outputs": [],
   "source": []
  },
  {
   "cell_type": "code",
   "execution_count": null,
   "metadata": {},
   "outputs": [],
   "source": []
  }
 ],
 "metadata": {
  "kernelspec": {
   "display_name": "Python 3",
   "language": "python",
   "name": "python3"
  },
  "language_info": {
   "codemirror_mode": {
    "name": "ipython",
    "version": 3
   },
   "file_extension": ".py",
   "mimetype": "text/x-python",
   "name": "python",
   "nbconvert_exporter": "python",
   "pygments_lexer": "ipython3",
   "version": "3.10.6"
  }
 },
 "nbformat": 4,
 "nbformat_minor": 2
}
