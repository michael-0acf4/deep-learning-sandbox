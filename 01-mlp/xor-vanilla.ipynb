{
 "cells": [
  {
   "cell_type": "code",
   "execution_count": 2,
   "metadata": {},
   "outputs": [],
   "source": [
    "import torch\n",
    "import matplotlib.pyplot as plt"
   ]
  },
  {
   "cell_type": "code",
   "execution_count": 3,
   "metadata": {},
   "outputs": [],
   "source": [
    "# I just think XOR is a nice problem that easily introduces\n",
    "# vanishing gradients on a naive setup using MSE\n",
    "\n",
    "xs = torch.tensor([[0.0, 0.0], [0.0, 1.0], [1.0, 0.0], [1.0, 1.0]])\n",
    "ys = torch.tensor([[0.0], [1.0], [1.0], [0.0]])"
   ]
  },
  {
   "cell_type": "code",
   "execution_count": 10,
   "metadata": {},
   "outputs": [],
   "source": [
    "# Toy example using 0 fancy features except the autograd for backprop\n",
    "\n",
    "class Activation: pass\n",
    "class ReLU(Activation):\n",
    "    def __call__(self, val: torch.Tensor):\n",
    "        return val.relu()\n",
    "class Sigmoid(Activation):\n",
    "    def __call__(self, val: torch.Tensor):\n",
    "        return val.sigmoid()\n",
    "class Tanh(Activation):\n",
    "    def __call__(self, val: torch.Tensor):\n",
    "        return val.tanh()\n",
    "\n",
    "class Layer:\n",
    "    def __init__(self, inp, out): # out == number of neurons\n",
    "        torch.manual_seed(2468)\n",
    "        # Note: for some reason, reshape(R, C) disables the gradients\n",
    "        self.w = torch.rand(out, inp, requires_grad=True, dtype=torch.float32)  \n",
    "        self.b = torch.rand(out, 1, requires_grad=True, dtype=torch.float32)\n",
    "\n",
    "    def forward(self, x):\n",
    "        # (N, I) . (I, 1) + (N, 1) = (N, 1)\n",
    "        # print(\"W=\", self.w.shape, \" @ X=\", x.shape, \" + B=\", self.b.shape)\n",
    "        return self.w @ x + self.b\n",
    "       \n",
    "\n",
    "class MLP:\n",
    "    def __init__(self, nout, lrate, layers: list[Layer]):\n",
    "        self.nout = nout\n",
    "        self.lrate = lrate\n",
    "        self.layers = layers\n",
    "        self.losses = []\n",
    "\n",
    "    def forward(self, x):\n",
    "        for layer in self.layers:\n",
    "            if isinstance(layer, Layer):\n",
    "                x = layer.forward(x)\n",
    "            elif isinstance(layer, Activation):\n",
    "                x = layer(x)\n",
    "            else:\n",
    "                raise ValueError(\"Unknown layer type\")\n",
    "        if x.numel() != self.nout:\n",
    "            raise ValueError(f\"MLP expects {self.nout} outputs, got {x.numel()} instead\")\n",
    "        return x\n",
    "\n",
    "    def train(self, epoch=100):\n",
    "        for i in range(epoch):\n",
    "            self.reset()\n",
    "            loss = 0.0\n",
    "            total = 0.0\n",
    "            for x, y in zip(xs, ys):\n",
    "                h = self.forward(x.view(len(x), 1))\n",
    "                inner = (h - y.reshape(self.nout, 1)) ** 2\n",
    "                total += inner.numel()\n",
    "                loss += torch.sum(inner)\n",
    "\n",
    "            loss = loss / total\n",
    "            self.losses.append(loss.data)\n",
    "\n",
    "            loss.backward()\n",
    "\n",
    "            self.optimize()\n",
    "\n",
    "        print(f\"{i+1}.. Loss {loss.item()}\")\n",
    "        return self\n",
    "\n",
    "\n",
    "    def reset(self):\n",
    "        for layer in self.layers:\n",
    "            if isinstance(layer, Layer):\n",
    "                layer.w.grad = None\n",
    "                layer.b.grad = None\n",
    "\n",
    "    def optimize(self):\n",
    "        for layer in self.layers:\n",
    "            if isinstance(layer, Layer):\n",
    "                with torch.no_grad():\n",
    "                    layer.w.data += -self.lrate * layer.w.grad\n",
    "                    layer.b.data += -self.lrate * layer.b.grad"
   ]
  },
  {
   "cell_type": "code",
   "execution_count": 12,
   "metadata": {},
   "outputs": [
    {
     "name": "stdout",
     "output_type": "stream",
     "text": [
      "100.. Loss 0.2498912811279297\n"
     ]
    },
    {
     "data": {
      "image/png": "[encoded data removed]",
      "text/plain": [
       "<Figure size 640x480 with 1 Axes>"
      ]
     },
     "metadata": {},
     "output_type": "display_data"
    }
   ],
   "source": [
    "\n",
    "# This setup is completely arbitrary\n",
    "# but we basically want to overfit for XOR\n",
    "nout = 1\n",
    "lrate = 0.1\n",
    "mlp = MLP(nout, lrate, [\n",
    "    Layer(2, 4),\n",
    "    Sigmoid(),\n",
    "    Layer(4, 1),\n",
    "    ReLU(),\n",
    "]).train(epoch=100)\n",
    "\n",
    "plt.plot(mlp.losses)\n",
    "plt.ylabel(\"Losses\")\n",
    "plt.show()"
   ]
  },
  {
   "cell_type": "code",
   "execution_count": 14,
   "metadata": {},
   "outputs": [
    {
     "name": "stdout",
     "output_type": "stream",
     "text": [
      "Predictions: tensor([[0.]])\n",
      "Predictions: tensor([[1.]])\n",
      "Predictions: tensor([[1.]])\n",
      "Predictions: tensor([[1.]])\n"
     ]
    }
   ],
   "source": [
    "with torch.no_grad():\n",
    "    for x in xs:\n",
    "        output = mlp.forward(x.view(len(x), 1)).data\n",
    "        print(f\"Predictions: {output.round()}\")\n"
   ]
  },
  {
   "cell_type": "code",
   "execution_count": null,
   "metadata": {},
   "outputs": [],
   "source": []
  }
 ],
 "metadata": {
  "kernelspec": {
   "display_name": "Python 3",
   "language": "python",
   "name": "python3"
  },
  "language_info": {
   "codemirror_mode": {
    "name": "ipython",
    "version": 3
   },
   "file_extension": ".py",
   "mimetype": "text/x-python",
   "name": "python",
   "nbconvert_exporter": "python",
   "pygments_lexer": "ipython3",
   "version": "3.10.6"
  }
 },
 "nbformat": 4,
 "nbformat_minor": 2
}
