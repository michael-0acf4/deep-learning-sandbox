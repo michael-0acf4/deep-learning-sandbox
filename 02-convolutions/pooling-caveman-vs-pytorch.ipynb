{
 "cells": [
  {
   "cell_type": "code",
   "execution_count": 1,
   "metadata": {},
   "outputs": [],
   "source": [
    "import torch\n",
    "import torch.nn.functional as F"
   ]
  },
  {
   "cell_type": "code",
   "execution_count": 2,
   "metadata": {},
   "outputs": [],
   "source": [
    "input = [\n",
    "    [1, 3, 2, 4],\n",
    "    [5, 6, 7, 8],\n",
    "    [9, 10, 11, 12],\n",
    "    [13, 14, 15, 16]\n",
    "]\n",
    "\n",
    "kernel_size, stride = 2, 1"
   ]
  },
  {
   "cell_type": "code",
   "execution_count": null,
   "metadata": {},
   "outputs": [
    {
     "data": {
      "text/plain": [
       "[[6, 7, 8], [10, 11, 12], [14, 15, 16]]"
      ]
     },
     "execution_count": 3,
     "metadata": {},
     "output_type": "execute_result"
    }
   ],
   "source": [
    "# 1. Caveman\n",
    "h = len(input)\n",
    "w = len(input[0])\n",
    "out_height = (h - kernel_size) // stride + 1\n",
    "out_width = (w - kernel_size) // stride + 1\n",
    "\n",
    "caveman_output = [[0] * out_width for _ in range(out_height)]\n",
    "\n",
    "for i in range(out_height):\n",
    "    for j in range(out_width):\n",
    "        peek_window = [row[j * stride:j * stride + kernel_size] for row in input[i * stride:i * stride + kernel_size]]\n",
    "        # Fold with a reducer op (here a max)\n",
    "        max_value = max([item for row in peek_window for item in row])\n",
    "        caveman_output[i][j] = max_value\n",
    "\n",
    "caveman_output"
   ]
  },
  {
   "cell_type": "code",
   "execution_count": null,
   "metadata": {},
   "outputs": [],
   "source": [
    "# 2. Pytorch\n",
    "fake_conv = torch.tensor(input).unsqueeze(0).unsqueeze(0) # + Lift batch dim then channel dim\n",
    "pytorch_output = F.max_pool2d(fake_conv, kernel_size, stride)"
   ]
  },
  {
   "cell_type": "code",
   "execution_count": 5,
   "metadata": {},
   "outputs": [
    {
     "data": {
      "text/plain": [
       "tensor([[[[True, True, True],\n",
       "          [True, True, True],\n",
       "          [True, True, True]]]])"
      ]
     },
     "execution_count": 5,
     "metadata": {},
     "output_type": "execute_result"
    }
   ],
   "source": [
    "# Check\n",
    "torch.tensor(caveman_output).unsqueeze(0).unsqueeze(0) == pytorch_output"
   ]
  }
 ],
 "metadata": {
  "kernelspec": {
   "display_name": "Python 3",
   "language": "python",
   "name": "python3"
  },
  "language_info": {
   "codemirror_mode": {
    "name": "ipython",
    "version": 3
   },
   "file_extension": ".py",
   "mimetype": "text/x-python",
   "name": "python",
   "nbconvert_exporter": "python",
   "pygments_lexer": "ipython3",
   "version": "3.10.6"
  }
 },
 "nbformat": 4,
 "nbformat_minor": 2
}
